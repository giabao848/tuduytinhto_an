{
  "nbformat": 4,
  "nbformat_minor": 0,
  "metadata": {
    "colab": {
      "provenance": []
    },
    "kernelspec": {
      "name": "python3",
      "display_name": "Python 3"
    },
    "language_info": {
      "name": "python"
    }
  },
  "cells": [
    {
      "cell_type": "markdown",
      "source": [
        "W2A1"
      ],
      "metadata": {
        "id": "eV0lLCauC8gr"
      }
    },
    {
      "cell_type": "code",
      "source": [
        "print(\"Hello world!\")"
      ],
      "metadata": {
        "colab": {
          "base_uri": "https://localhost:8080/"
        },
        "id": "ji5BXO6kDQha",
        "outputId": "968a2ab0-2f69-44b6-e97b-336bc5640b80"
      },
      "execution_count": null,
      "outputs": [
        {
          "output_type": "stream",
          "name": "stdout",
          "text": [
            "Hello world!\n"
          ]
        }
      ]
    },
    {
      "cell_type": "markdown",
      "source": [
        "W2A2"
      ],
      "metadata": {
        "id": "-zUZMQEaDrhn"
      }
    },
    {
      "cell_type": "code",
      "source": [
        "name = input(\"Nhập tên: \")\n",
        "print(f\"Xin chào {name}\")"
      ],
      "metadata": {
        "id": "MHA3WY3bD4Ii"
      },
      "execution_count": null,
      "outputs": []
    },
    {
      "cell_type": "markdown",
      "source": [
        "W2A3"
      ],
      "metadata": {
        "id": "JSFkLFG0ELr4"
      }
    },
    {
      "cell_type": "code",
      "source": [
        "a = int(input(\"a = \"))\n",
        "b = int(input(\"b = \"))\n",
        "print(f\"Tổng = {a+b}\")\n",
        "print(f\"Hiệu = {a-b}\")\n",
        "print(f\"Tích = {a*b}\")\n",
        "print(f\"Phần nguyên = {a//b}\")\n",
        "print(f\"Phần dư = {a%b}\")\n",
        "print(f\"kết quả thực = {(a/b):.2f}\")"
      ],
      "metadata": {
        "id": "9mNd_e0wEODK"
      },
      "execution_count": null,
      "outputs": []
    },
    {
      "cell_type": "markdown",
      "source": [
        "W2A4"
      ],
      "metadata": {
        "id": "9Be_0vQnGCED"
      }
    },
    {
      "cell_type": "code",
      "source": [
        "a1, b1, c1, a2, b2, a3 = map(float, input().split())\n",
        "diem_tb = ((a1 + b1 +c1) + (a2 + b2) * 2 + a3 * 3) / 10\n",
        "print(f\"{diem_tb:.1f}\")"
      ],
      "metadata": {
        "id": "6IayJnnXGGVY"
      },
      "execution_count": null,
      "outputs": []
    },
    {
      "cell_type": "markdown",
      "source": [
        "W2A5"
      ],
      "metadata": {
        "id": "ysRfpCy1JJdh"
      }
    },
    {
      "cell_type": "code",
      "source": [
        "a, b = map(int, (input(\"a, b: \").split()))\n",
        "print(a**b)"
      ],
      "metadata": {
        "id": "A0FZj9DEJLg0"
      },
      "execution_count": null,
      "outputs": []
    },
    {
      "cell_type": "markdown",
      "source": [
        "W2A6"
      ],
      "metadata": {
        "id": "Iwnfpu9qJwIu"
      }
    },
    {
      "cell_type": "code",
      "source": [
        "s = (input(\"Nhập một chữ cái: \"))\n",
        "print(ord(s))\n",
        "print(s.upper())"
      ],
      "metadata": {
        "id": "qonyi_RxJyHY"
      },
      "execution_count": null,
      "outputs": []
    },
    {
      "cell_type": "markdown",
      "source": [
        "W2A7"
      ],
      "metadata": {
        "id": "E_uhJX8MK8qy"
      }
    },
    {
      "cell_type": "code",
      "source": [
        "print(\"A:\", ((13**2)*3) + 5)\n",
        "print(\"B:\", 13 ** 2 * 3 + 5)"
      ],
      "metadata": {
        "id": "8_ydDvBHLC_k"
      },
      "execution_count": null,
      "outputs": []
    },
    {
      "cell_type": "markdown",
      "source": [
        "W2A8"
      ],
      "metadata": {
        "id": "3qktkHW4N0kH"
      }
    },
    {
      "cell_type": "code",
      "source": [
        "c = float(input(\"Nhiệt độ Celcius: \"))\n",
        "f = 32 + 9/5 *c\n",
        "print(f\"{f:.2f}\")"
      ],
      "metadata": {
        "id": "eNwm1Cm6N5tv"
      },
      "execution_count": null,
      "outputs": []
    },
    {
      "cell_type": "markdown",
      "source": [
        "W2A9"
      ],
      "metadata": {
        "id": "-joqI6WaOZrO"
      }
    },
    {
      "cell_type": "code",
      "source": [
        "x = int(input(\"Đồng hồ có giá: \"))\n",
        "tien = x + 10 + 0.1*x + 0.3*x\n",
        "print(f\"{tien:.2f}\")"
      ],
      "metadata": {
        "id": "9R6oMCG3Ocus"
      },
      "execution_count": null,
      "outputs": []
    },
    {
      "cell_type": "markdown",
      "source": [
        "W2A10"
      ],
      "metadata": {
        "id": "d1HdMYmkP7tJ"
      }
    },
    {
      "cell_type": "code",
      "source": [
        "a, b, c = input(\"Nhập tên ba bạn: \").split()\n",
        "print(f\"Hi {c}, {b} and {a}\")\n"
      ],
      "metadata": {
        "id": "Vh608_DAP-5y"
      },
      "execution_count": null,
      "outputs": []
    },
    {
      "cell_type": "markdown",
      "source": [
        "W2A11"
      ],
      "metadata": {
        "id": "_vG-4BnMQml8"
      }
    },
    {
      "cell_type": "code",
      "source": [
        "min = float(input(\"Phút: \"))\n",
        "hour = float(input(\"GIờ: \"))\n",
        "print(f\"Phút sang giây: {min*60}\")\n",
        "print(f\"Giờ sang giây: {hour*3600}\")"
      ],
      "metadata": {
        "id": "mogoAI6mQomF"
      },
      "execution_count": null,
      "outputs": []
    },
    {
      "cell_type": "markdown",
      "source": [
        "W2A12"
      ],
      "metadata": {
        "id": "9EjSnwWKRnjN"
      }
    },
    {
      "cell_type": "code",
      "source": [
        "x  = int(input(\"Độ dài cạnh: \"))\n",
        "mot_mat = x**2\n",
        "print(f\"Số lượng miếng dán cần dùng: {mot_mat*6}\")"
      ],
      "metadata": {
        "id": "sjh8oupIRqQS"
      },
      "execution_count": null,
      "outputs": []
    },
    {
      "cell_type": "markdown",
      "source": [
        "W2A13"
      ],
      "metadata": {
        "id": "qaFvr9CPTFqR"
      }
    },
    {
      "cell_type": "code",
      "source": [
        "a = int(input(\"a = \"))\n",
        "b = int(input(\"b = \"))\n",
        "print((a*b)%10)"
      ],
      "metadata": {
        "id": "dKtIte3aTIT_"
      },
      "execution_count": null,
      "outputs": []
    },
    {
      "cell_type": "markdown",
      "source": [
        "W2A14"
      ],
      "metadata": {
        "id": "cAHZuIgKTlWX"
      }
    },
    {
      "cell_type": "code",
      "source": [
        "a = float(input(\"a = \"))\n",
        "b = float(input(\"b = \"))\n",
        "a, b = b, a\n",
        "print(f\"a = {a}\\nb = {b}\")"
      ],
      "metadata": {
        "id": "tkcexqC2Tnkk"
      },
      "execution_count": null,
      "outputs": []
    },
    {
      "cell_type": "markdown",
      "source": [
        "W2A15"
      ],
      "metadata": {
        "id": "3dbffxh6UmPS"
      }
    },
    {
      "cell_type": "code",
      "source": [],
      "metadata": {
        "id": "UcDbjW20UpJp"
      },
      "execution_count": null,
      "outputs": []
    },
    {
      "cell_type": "markdown",
      "source": [
        "W2A16"
      ],
      "metadata": {
        "id": "gtVqqnpgVZEe"
      }
    },
    {
      "cell_type": "code",
      "source": [
        "print(\"Spring\\nSummer\\nAutumn\\nWinter\")"
      ],
      "metadata": {
        "id": "e5X7e9wLVbYl"
      },
      "execution_count": null,
      "outputs": []
    },
    {
      "cell_type": "markdown",
      "source": [
        "W2A17"
      ],
      "metadata": {
        "id": "uNpP3U_RVqMh"
      }
    },
    {
      "cell_type": "code",
      "source": [
        "for i in range(1,6,2):\n",
        "  print(\"*\"*i)"
      ],
      "metadata": {
        "id": "Wmoqi3njVshc"
      },
      "execution_count": null,
      "outputs": []
    },
    {
      "cell_type": "markdown",
      "source": [
        "W2A18"
      ],
      "metadata": {
        "id": "MOTa9-dWWKnG"
      }
    },
    {
      "cell_type": "code",
      "source": [
        "print(\"###  # #   ### ###\")\n",
        "print(\"#    #  #   #   #\")\n",
        "print(\"#    #   #  #   #\")\n",
        "print(\"#    #  #   #   #\")\n",
        "print(\"#    ##     #   #\")"
      ],
      "metadata": {
        "id": "rZG1su4XWPVK"
      },
      "execution_count": null,
      "outputs": []
    },
    {
      "cell_type": "markdown",
      "source": [
        "W2A19"
      ],
      "metadata": {
        "id": "Q09q8XeZWw5U"
      }
    },
    {
      "cell_type": "code",
      "source": [
        "print(\"Monday\\nTuesday\\nWednesday\\nThursday\\nFriday\\nSaturday\\nSunday\")"
      ],
      "metadata": {
        "id": "tp5yuL2EWzAO"
      },
      "execution_count": null,
      "outputs": []
    },
    {
      "cell_type": "markdown",
      "source": [
        "W2A20"
      ],
      "metadata": {
        "id": "EBmqWqq5XEZh"
      }
    },
    {
      "cell_type": "code",
      "source": [
        "print(\"January\\nFebruary\\nMarch\\nApril\\nMay\\nJune\\nJuly\\nAugust\\nSeptemper\\nOctober\\nNovember\\nDecember\")"
      ],
      "metadata": {
        "id": "mPHGDWYpXGnQ"
      },
      "execution_count": null,
      "outputs": []
    },
    {
      "cell_type": "markdown",
      "source": [
        "W2A21"
      ],
      "metadata": {
        "id": "PG9mGmhzXu33"
      }
    },
    {
      "cell_type": "code",
      "source": [
        "for i in range(10):\n",
        "  print(\"Hello, world\")"
      ],
      "metadata": {
        "id": "K5Q8bHXKXxGi"
      },
      "execution_count": null,
      "outputs": []
    }
  ]
}