{
  "nbformat": 4,
  "nbformat_minor": 0,
  "metadata": {
    "colab": {
      "provenance": []
    },
    "kernelspec": {
      "name": "python3",
      "display_name": "Python 3"
    },
    "language_info": {
      "name": "python"
    }
  },
  "cells": [
    {
      "cell_type": "markdown",
      "source": [
        "W1A1"
      ],
      "metadata": {
        "id": "PG_ES9cOdCwA"
      }
    },
    {
      "cell_type": "code",
      "source": [
        "#Tính hiệu hai số a, b\n",
        "a = 7      #Nhập 2 số\n",
        "b = 5\n",
        "c = a - b     #Tính hiệu lưu vào c\n",
        "print(c)      #In c"
      ],
      "metadata": {
        "colab": {
          "base_uri": "https://localhost:8080/"
        },
        "id": "vHTGGv2-dHDI",
        "outputId": "ef0932a0-8948-448c-e420-31bffd10fd26"
      },
      "execution_count": null,
      "outputs": [
        {
          "output_type": "stream",
          "name": "stdout",
          "text": [
            "2\n"
          ]
        }
      ]
    },
    {
      "cell_type": "markdown",
      "source": [
        "W1A2"
      ],
      "metadata": {
        "id": "leTmKqbrdHW_"
      }
    },
    {
      "cell_type": "code",
      "source": [
        "#Ghép chuỗi\n",
        "city = \"Hà Nội\"     #Nhập xâu\n",
        "year = 2025\n",
        "print(\"Thành phố\", city,\"- Năm:\", year)"
      ],
      "metadata": {
        "colab": {
          "base_uri": "https://localhost:8080/"
        },
        "id": "GZBgnDPNdI3f",
        "outputId": "a1fb5535-82c0-4eb2-ceb6-d43f1bb8a46d"
      },
      "execution_count": null,
      "outputs": [
        {
          "output_type": "stream",
          "name": "stdout",
          "text": [
            "Thành phố Hà Nội - Năm: 2025\n"
          ]
        }
      ]
    },
    {
      "cell_type": "markdown",
      "source": [
        "W1A3"
      ],
      "metadata": {
        "id": "CHPELtAtdJLO"
      }
    },
    {
      "cell_type": "code",
      "source": [
        "#Tổng của n số tự nhiên đầu\n",
        "n = 4   #Nhập n\n",
        "t = 0\n",
        "for i in range(1, n+1):     #Cho i chạy qua từng số\n",
        "  t += i                    #cộng vào biến tổng\n",
        "\n",
        "print(t)                    #In"
      ],
      "metadata": {
        "colab": {
          "base_uri": "https://localhost:8080/"
        },
        "id": "kC9Dhe-adKZ9",
        "outputId": "7f30ddf1-fc32-4ab4-84d2-bcf58381027f"
      },
      "execution_count": null,
      "outputs": [
        {
          "output_type": "stream",
          "name": "stdout",
          "text": [
            "10\n"
          ]
        }
      ]
    },
    {
      "cell_type": "markdown",
      "source": [
        "W1A4"
      ],
      "metadata": {
        "id": "9m3CJ5sodKu8"
      }
    },
    {
      "cell_type": "code",
      "source": [
        "numbers = [1, 2, 3, 4]\n",
        "for i in numbers:     #cho i chạy qua các phần tử trong list\n",
        "  if i % 2 == 0:      #xem có chia hết cho 2 không\n",
        "    print(i,\"là số chẵn\")   #có thì in ra là số chẵn\n",
        "  else:\n",
        "    print(i,\"Là số lẻ\")     #không thì in ra số lẻ"
      ],
      "metadata": {
        "colab": {
          "base_uri": "https://localhost:8080/"
        },
        "id": "KfMggD2-dL2E",
        "outputId": "05ee6bab-f0b8-4b11-eec2-107816f625c1"
      },
      "execution_count": null,
      "outputs": [
        {
          "output_type": "stream",
          "name": "stdout",
          "text": [
            "1 Là số lẻ\n",
            "2 là số chẵn\n",
            "3 Là số lẻ\n",
            "4 là số chẵn\n"
          ]
        }
      ]
    },
    {
      "cell_type": "markdown",
      "source": [
        "W1A5"
      ],
      "metadata": {
        "id": "QHo2dT0xdMfb"
      }
    },
    {
      "cell_type": "code",
      "source": [
        "#Đếm số phần tử trong danh sách\n",
        "animals = [\"cat\"\"\", \"dog\", \"cat\", \"bird\"]   #nhập số phần tử\n",
        "count = 0\n",
        "for a in animals:   #cho a chạy qua từng phần tử\n",
        "  count += 1        #count để đếm số phần tử\n",
        "print(\"Số phần tử trong danh sách con là:\", count)    #in ra số phần tử trong danh sách"
      ],
      "metadata": {
        "colab": {
          "base_uri": "https://localhost:8080/"
        },
        "id": "beEcaFTHdNgb",
        "outputId": "02856a59-8f5e-484f-b469-de99f3712ca7"
      },
      "execution_count": null,
      "outputs": [
        {
          "output_type": "stream",
          "name": "stdout",
          "text": [
            "Số phần tử trong danh sách con là: 4\n"
          ]
        }
      ]
    },
    {
      "cell_type": "markdown",
      "source": [
        "W1A6"
      ],
      "metadata": {
        "id": "6kAi8xEUdOFD"
      }
    },
    {
      "cell_type": "markdown",
      "source": [
        "\n",
        "\n",
        "=== AI Prediction System ===\n",
        "1) Sentiment analysis\n",
        "2) Weather forecast\n",
        "3) Exit\n",
        "Please choose an option:\n",
        "\n",
        " - Chương trình đã cho tạo menu giả lập cho người dùng\n",
        " - Có kết quả vậy đã dùng 5 lệnh print\n",
        "\n",
        "\n"
      ],
      "metadata": {
        "id": "aWyvSZoZjOSS"
      }
    },
    {
      "cell_type": "markdown",
      "source": [
        "W1A7"
      ],
      "metadata": {
        "id": "d2aeDy6-dPoS"
      }
    },
    {
      "cell_type": "code",
      "source": [
        "#Đã sửa\n",
        "num = int(input(\"Nhập số nguyên dương: \"))\n",
        "if num % 2 == 0:    #Sửa thành ==\n",
        "  print(\"Số chẵn\")\n",
        "else:               #Thiếu \":\"\n",
        "  print(\"Số lẻ\")"
      ],
      "metadata": {
        "colab": {
          "base_uri": "https://localhost:8080/"
        },
        "id": "g7zgxqVgdQsB",
        "outputId": "5cc8e3ef-99ed-4d17-8afb-11fd2438e1d9"
      },
      "execution_count": null,
      "outputs": [
        {
          "output_type": "stream",
          "name": "stdout",
          "text": [
            "Nhập số nguyên dương: 6\n",
            "Số chẵn\n"
          ]
        }
      ]
    },
    {
      "cell_type": "markdown",
      "source": [
        "W1A8"
      ],
      "metadata": {
        "id": "KaYTYeQZdRKw"
      }
    },
    {
      "cell_type": "code",
      "source": [
        "#In ra 3 vòng lặp mỗi vòng lặp có 2 lệnh print đếm xem đó là lần thứ mấy\n",
        "for i in range(3):\n",
        "  print(\"AI đang học lần\", i+1)\n",
        "  print(\"Huấn luyện xong>\")"
      ],
      "metadata": {
        "colab": {
          "base_uri": "https://localhost:8080/"
        },
        "id": "RXQZ1Z0vdSLf",
        "outputId": "cbca39a1-edd4-450b-bf77-d963bf1f7fd8"
      },
      "execution_count": null,
      "outputs": [
        {
          "output_type": "stream",
          "name": "stdout",
          "text": [
            "AI đang học lần 1\n",
            "Huấn luyện xong>\n",
            "AI đang học lần 2\n",
            "Huấn luyện xong>\n",
            "AI đang học lần 3\n",
            "Huấn luyện xong>\n"
          ]
        }
      ]
    },
    {
      "cell_type": "markdown",
      "source": [
        "W1A9"
      ],
      "metadata": {
        "id": "U-YV6awvdSqX"
      }
    },
    {
      "cell_type": "code",
      "source": [
        "#In ra 3 dòng nội dung là các con vật theo thứ tự trong list\n",
        "for x in [\"cat\", \"dog\", \"fish\"]:\n",
        "  print(\"Dự đoán con vật:\",x)"
      ],
      "metadata": {
        "colab": {
          "base_uri": "https://localhost:8080/"
        },
        "id": "5MFPQu5RdUKV",
        "outputId": "08600a01-71c5-4b8e-bdfb-5fc6fbae75d7"
      },
      "execution_count": null,
      "outputs": [
        {
          "output_type": "stream",
          "name": "stdout",
          "text": [
            "Dự đoán con vật: cat\n",
            "Dự đoán con vật: dog\n",
            "Dự đoán con vật: fish\n"
          ]
        }
      ]
    },
    {
      "cell_type": "markdown",
      "source": [
        "W1A10"
      ],
      "metadata": {
        "id": "_7xTpQhgdWgj"
      }
    },
    {
      "cell_type": "code",
      "source": [
        "#Đã sửa\n",
        "#Simple menu\n",
        "print(\"=== AI Prediction Systems ===\")  #Chưa đóng mở ngoặc đơn\n",
        "print(\"1)Sentiment analysis\") #Chưa đóng ngoặc đơn\n",
        "print(\"2)Weather forecast\") #Đóng thừa ngoặc đơn\n",
        "print(\"3)Exit\")   #Dấu nháy kép bị sai và chưa đóng ngoặc đơn\n",
        "print(\"Please choose an option.\")"
      ],
      "metadata": {
        "colab": {
          "base_uri": "https://localhost:8080/"
        },
        "id": "HbBPEbGHdXwj",
        "outputId": "c55aa69b-8478-46b1-cbe2-ffe3c06ce47f"
      },
      "execution_count": null,
      "outputs": [
        {
          "output_type": "stream",
          "name": "stdout",
          "text": [
            "=== AI Prediction Systems ===\n",
            "1)Sentiment analysis\n",
            "2)Weather forecast\n",
            "3)Exit\n",
            "Please choose an option.\n"
          ]
        }
      ]
    }
  ]
}