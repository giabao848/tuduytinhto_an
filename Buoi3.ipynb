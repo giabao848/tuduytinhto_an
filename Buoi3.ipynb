{
  "nbformat": 4,
  "nbformat_minor": 0,
  "metadata": {
    "colab": {
      "provenance": []
    },
    "kernelspec": {
      "name": "python3",
      "display_name": "Python 3"
    },
    "language_info": {
      "name": "python"
    }
  },
  "cells": [
    {
      "cell_type": "markdown",
      "source": [
        "Bài 1"
      ],
      "metadata": {
        "id": "a1tEnlrTEzPA"
      }
    },
    {
      "cell_type": "code",
      "source": [
        "n = int(input(\"Nhập số:\"))\n",
        "a = 0\n",
        "while n > 0:\n",
        "  a *= 10\n",
        "  a += n % 10\n",
        "  n = n // 10\n",
        "print(a)\n"
      ],
      "metadata": {
        "colab": {
          "base_uri": "https://localhost:8080/"
        },
        "id": "D00i33BFFCtF",
        "outputId": "a199825e-9ae6-4e5e-c9f6-a9bc6ddf487f"
      },
      "execution_count": null,
      "outputs": [
        {
          "output_type": "stream",
          "name": "stdout",
          "text": [
            "Nhập số:5343\n",
            "3435\n"
          ]
        }
      ]
    },
    {
      "cell_type": "markdown",
      "source": [
        "Bài 2"
      ],
      "metadata": {
        "id": "kwp0Xe59Owt7"
      }
    },
    {
      "cell_type": "code",
      "source": [
        "a, b = map(int, input().split())\n",
        "a, b = b, a\n",
        "print(a , b)"
      ],
      "metadata": {
        "colab": {
          "base_uri": "https://localhost:8080/"
        },
        "id": "ZjRm4dmcOyRG",
        "outputId": "46494300-ca14-48e5-b4a2-bc5e68b478a5"
      },
      "execution_count": null,
      "outputs": [
        {
          "output_type": "stream",
          "name": "stdout",
          "text": [
            "100 20\n",
            "20 100\n"
          ]
        }
      ]
    },
    {
      "cell_type": "markdown",
      "source": [
        "Bài 3"
      ],
      "metadata": {
        "id": "jXcAfTN-See4"
      }
    },
    {
      "cell_type": "code",
      "source": [
        "n = int(input(\"Nhập số:\"))\n",
        "if n & (n-1) == 0\n",
        "  print(\"Là lũy thừa của 2\")\n",
        "else:\n",
        "  print(\"Không là lũy thừa của 2\")"
      ],
      "metadata": {
        "colab": {
          "base_uri": "https://localhost:8080/"
        },
        "id": "zG39OPrkSftf",
        "outputId": "d378613d-1b02-49b0-bbc7-1d668f6442bd"
      },
      "execution_count": null,
      "outputs": [
        {
          "output_type": "stream",
          "name": "stdout",
          "text": [
            "Nhập số:8\n",
            "Là lũy thừa của 2\n"
          ]
        }
      ]
    },
    {
      "cell_type": "markdown",
      "source": [
        "Bai 4"
      ],
      "metadata": {
        "id": "H8vaOnG4P4bB"
      }
    },
    {
      "cell_type": "code",
      "source": [
        "m, n = map (int, input().split())\n",
        "a = m //n\n",
        "print(a)"
      ],
      "metadata": {
        "colab": {
          "base_uri": "https://localhost:8080/"
        },
        "id": "QBNPqjX-P8zF",
        "outputId": "73dfd387-06e2-4e61-f707-7b8f8f8554a1"
      },
      "execution_count": 6,
      "outputs": [
        {
          "output_type": "stream",
          "name": "stdout",
          "text": [
            "2 3\n",
            "0\n"
          ]
        }
      ]
    },
    {
      "cell_type": "markdown",
      "source": [
        "Bài 5"
      ],
      "metadata": {
        "id": "dssnazu9ksC_"
      }
    },
    {
      "cell_type": "code",
      "source": [
        "import math\n",
        "m, n = map (int, input().split())\n",
        "a = m / n\n",
        "print(math.ceil(a))\n"
      ],
      "metadata": {
        "id": "hWPV0IFDkuzt",
        "colab": {
          "base_uri": "https://localhost:8080/"
        },
        "outputId": "a403db2a-2a5b-405b-ebcc-963503aa3352"
      },
      "execution_count": 5,
      "outputs": [
        {
          "output_type": "stream",
          "name": "stdout",
          "text": [
            "2 3\n",
            "1\n"
          ]
        }
      ]
    }
  ]
}