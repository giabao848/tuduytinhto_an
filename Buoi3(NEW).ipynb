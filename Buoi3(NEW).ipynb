{
  "nbformat": 4,
  "nbformat_minor": 0,
  "metadata": {
    "colab": {
      "provenance": []
    },
    "kernelspec": {
      "name": "python3",
      "display_name": "Python 3"
    },
    "language_info": {
      "name": "python"
    }
  },
  "cells": [
    {
      "cell_type": "markdown",
      "source": [
        "Bài 1"
      ],
      "metadata": {
        "id": "a1tEnlrTEzPA"
      }
    },
    {
      "cell_type": "code",
      "source": [
        "n = int(input(\"Nhập số:\"))\n",
        "a = 0\n",
        "while n > 0:\n",
        "  a *= 10\n",
        "  a += n % 10\n",
        "  n = n // 10\n",
        "print(a)\n"
      ],
      "metadata": {
        "colab": {
          "base_uri": "https://localhost:8080/"
        },
        "id": "D00i33BFFCtF",
        "outputId": "a199825e-9ae6-4e5e-c9f6-a9bc6ddf487f"
      },
      "execution_count": null,
      "outputs": [
        {
          "output_type": "stream",
          "name": "stdout",
          "text": [
            "Nhập số:5343\n",
            "3435\n"
          ]
        }
      ]
    },
    {
      "cell_type": "markdown",
      "source": [
        "Bài 2"
      ],
      "metadata": {
        "id": "kwp0Xe59Owt7"
      }
    },
    {
      "cell_type": "code",
      "source": [
        "a, b = map(int, input().split())\n",
        "a, b = b, a\n",
        "print(a , b)"
      ],
      "metadata": {
        "colab": {
          "base_uri": "https://localhost:8080/"
        },
        "id": "ZjRm4dmcOyRG",
        "outputId": "46494300-ca14-48e5-b4a2-bc5e68b478a5"
      },
      "execution_count": null,
      "outputs": [
        {
          "output_type": "stream",
          "name": "stdout",
          "text": [
            "100 20\n",
            "20 100\n"
          ]
        }
      ]
    },
    {
      "cell_type": "markdown",
      "source": [
        "Bài 3"
      ],
      "metadata": {
        "id": "jXcAfTN-See4"
      }
    },
    {
      "cell_type": "code",
      "source": [
        "n = int(input(\"Nhập số:\"))\n",
        "if n & (n-1) == 0\n",
        "  print(\"Là lũy thừa của 2\")\n",
        "else:\n",
        "  print(\"Không là lũy thừa của 2\")"
      ],
      "metadata": {
        "colab": {
          "base_uri": "https://localhost:8080/"
        },
        "id": "zG39OPrkSftf",
        "outputId": "d378613d-1b02-49b0-bbc7-1d668f6442bd"
      },
      "execution_count": null,
      "outputs": [
        {
          "output_type": "stream",
          "name": "stdout",
          "text": [
            "Nhập số:8\n",
            "Là lũy thừa của 2\n"
          ]
        }
      ]
    },
    {
      "cell_type": "markdown",
      "source": [
        "Bai 4"
      ],
      "metadata": {
        "id": "H8vaOnG4P4bB"
      }
    },
    {
      "cell_type": "code",
      "source": [
        "m, n = map (int, input().split())\n",
        "a = m //n\n",
        "print(a)"
      ],
      "metadata": {
        "colab": {
          "base_uri": "https://localhost:8080/"
        },
        "id": "QBNPqjX-P8zF",
        "outputId": "73dfd387-06e2-4e61-f707-7b8f8f8554a1"
      },
      "execution_count": null,
      "outputs": [
        {
          "output_type": "stream",
          "name": "stdout",
          "text": [
            "2 3\n",
            "0\n"
          ]
        }
      ]
    },
    {
      "cell_type": "markdown",
      "source": [
        "Bài 5"
      ],
      "metadata": {
        "id": "dssnazu9ksC_"
      }
    },
    {
      "cell_type": "code",
      "source": [
        "import math\n",
        "m, n = map (int, input().split())\n",
        "a = m / n\n",
        "print(math.ceil(a))\n"
      ],
      "metadata": {
        "id": "hWPV0IFDkuzt",
        "colab": {
          "base_uri": "https://localhost:8080/"
        },
        "outputId": "a403db2a-2a5b-405b-ebcc-963503aa3352"
      },
      "execution_count": null,
      "outputs": [
        {
          "output_type": "stream",
          "name": "stdout",
          "text": [
            "2 3\n",
            "1\n"
          ]
        }
      ]
    },
    {
      "cell_type": "markdown",
      "source": [
        "Bài 6"
      ],
      "metadata": {
        "id": "Tynna3rpTpr9"
      }
    },
    {
      "cell_type": "code",
      "source": [
        "x = int (input(\"Nhập số:\"))\n",
        "if x % 2 == 0:\n",
        "  print(\"Even\")\n",
        "else:\n",
        "  print(\"Odd\")\n"
      ],
      "metadata": {
        "id": "5uNqxbqnTwRH"
      },
      "execution_count": null,
      "outputs": []
    },
    {
      "cell_type": "markdown",
      "source": [
        "Bài 7"
      ],
      "metadata": {
        "id": "R9MRVQiRT-xN"
      }
    },
    {
      "cell_type": "code",
      "source": [
        "a, b = map(int, input().split())\n",
        "if a < 0 and b < 0 :\n",
        "  print(\"Yes\")\n",
        "else :\n",
        "  print(\"No\")"
      ],
      "metadata": {
        "colab": {
          "base_uri": "https://localhost:8080/"
        },
        "id": "hU0KsR_dUAPu",
        "outputId": "d2fceffe-e26f-4587-aaee-5777167b8136"
      },
      "execution_count": null,
      "outputs": [
        {
          "output_type": "stream",
          "name": "stdout",
          "text": [
            "2 -3\n",
            "No\n"
          ]
        }
      ]
    },
    {
      "cell_type": "markdown",
      "source": [
        "Bài 8"
      ],
      "metadata": {
        "id": "eP3HFmB1UZfQ"
      }
    },
    {
      "cell_type": "code",
      "source": [
        "a ,b = input().split()\n",
        "if len(a) > len(b):\n",
        "  print(\"True\")\n",
        "else:\n",
        "  print(\"False\")"
      ],
      "metadata": {
        "colab": {
          "base_uri": "https://localhost:8080/"
        },
        "id": "3U3iPm9FUaon",
        "outputId": "08560791-fa4d-4761-d39d-aacdee8e1f79"
      },
      "execution_count": null,
      "outputs": [
        {
          "output_type": "stream",
          "name": "stdout",
          "text": [
            " fs  fsdfsfd\n",
            "False\n"
          ]
        }
      ]
    },
    {
      "cell_type": "markdown",
      "source": [
        "Bài 9"
      ],
      "metadata": {
        "id": "S6zIJeQkVIwu"
      }
    },
    {
      "cell_type": "code",
      "source": [
        "a = int(input())\n",
        "b = int(input())\n",
        "c = int(input())\n",
        "if a>0 and b>0 and c > 0:\n",
        "  if (a < (b+c)) or (b < (a+c)) or (c < (a+b)):\n",
        "    print(\"Yes\")\n",
        "  else:\n",
        "    print(\"No\")\n",
        "else:\n",
        "  print(\"No\")"
      ],
      "metadata": {
        "colab": {
          "base_uri": "https://localhost:8080/"
        },
        "id": "3D9vA6L6Vi09",
        "outputId": "bf7455a3-5c65-415c-fa27-eaef43e3c80e"
      },
      "execution_count": null,
      "outputs": [
        {
          "output_type": "stream",
          "name": "stdout",
          "text": [
            "1\n",
            "0\n",
            "10\n",
            "No\n"
          ]
        }
      ]
    },
    {
      "cell_type": "markdown",
      "source": [
        "Bài 10"
      ],
      "metadata": {
        "id": "q4d3EpgBbSII"
      }
    },
    {
      "cell_type": "code",
      "source": [
        "a, b, c, d = map(int, input().split())\n",
        "max = a\n",
        "if max < b:\n",
        "  max = b\n",
        "if max < c:\n",
        "  max = c\n",
        "if max < d:\n",
        "  max = d\n",
        "print(max)\n",
        ""
      ],
      "metadata": {
        "id": "C5ovOkeNbT4t",
        "colab": {
          "base_uri": "https://localhost:8080/"
        },
        "outputId": "b9379d9d-53fc-496b-9fd8-b76ad39d618c"
      },
      "execution_count": 7,
      "outputs": [
        {
          "output_type": "stream",
          "name": "stdout",
          "text": [
            "-1 -1 -1 -1\n",
            "-1\n"
          ]
        }
      ]
    },
    {
      "cell_type": "markdown",
      "source": [
        "Bài 11"
      ],
      "metadata": {
        "id": "T_6zabg0Ez22"
      }
    },
    {
      "cell_type": "code",
      "source": [
        "year = int(input())\n",
        "if year % 4 == 0 and year % 100 != 0:\n",
        "  print(\"Leap year\")\n",
        "else:\n",
        "    if year % 400 == 0:\n",
        "      print(\"Leap year\")\n",
        "    else:\n",
        "      print(\"Not leap year\")"
      ],
      "metadata": {
        "colab": {
          "base_uri": "https://localhost:8080/"
        },
        "id": "buN8FewvFcz6",
        "outputId": "4f4604e6-eb9f-4d53-dcc1-61cb5f078bbf"
      },
      "execution_count": 13,
      "outputs": [
        {
          "output_type": "stream",
          "name": "stdout",
          "text": [
            "2024\n",
            "Leap year\n"
          ]
        }
      ]
    },
    {
      "cell_type": "markdown",
      "source": [
        "Bài 12"
      ],
      "metadata": {
        "id": "PFzK_t4sFb0Z"
      }
    },
    {
      "cell_type": "code",
      "source": [
        "so_dien = int(input())\n",
        "tien = int()\n",
        "if so_dien <= 50:\n",
        "  tien = so_dien * 1500\n",
        "elif so_dien <= 100:\n",
        "    tien = 50 * 1500 + (so_dien - 50) * 2000\n",
        "elif so_dien > 100:\n",
        "      tien = 50 * 1500 + (so_dien - 50) * 2000 + (so_dien - 1000) * 3000\n",
        "print(tien)"
      ],
      "metadata": {
        "colab": {
          "base_uri": "https://localhost:8080/"
        },
        "id": "Y7GQ86CmGgC7",
        "outputId": "246f908d-02fc-4764-ced5-647908a85ab0"
      },
      "execution_count": 19,
      "outputs": [
        {
          "output_type": "stream",
          "name": "stdout",
          "text": [
            "51\n",
            "77000\n"
          ]
        }
      ]
    },
    {
      "cell_type": "markdown",
      "source": [
        "Bài 13"
      ],
      "metadata": {
        "id": "iztkcdfsGeU8"
      }
    },
    {
      "cell_type": "code",
      "source": [
        "a = float(input())\n",
        "b = float(input())\n",
        "if a == 0:\n",
        "  print(\"Phương trình vô nghiệm\")\n",
        "else:\n",
        "  if b != 0:\n",
        "    n = -b/a\n",
        "    print(f\"Phương trình có nghiệm x = {round(n, 2)}\")\n",
        "  else:\n",
        "    print(\"Phương trình có vô số nghiệm\")"
      ],
      "metadata": {
        "colab": {
          "base_uri": "https://localhost:8080/"
        },
        "id": "O9IhqkOyKzmD",
        "outputId": "cbafaa8e-d2b7-4170-d767-db40bc542a13"
      },
      "execution_count": 31,
      "outputs": [
        {
          "output_type": "stream",
          "name": "stdout",
          "text": [
            "6\n",
            "7\n",
            "Phương trình có nghiệm x = -1.17\n"
          ]
        }
      ]
    },
    {
      "cell_type": "markdown",
      "source": [
        "Bài 14"
      ],
      "metadata": {
        "id": "Z9UVI7pDKySN"
      }
    },
    {
      "cell_type": "code",
      "source": [
        "score = float(input())\n",
        "if score >= 8:\n",
        "  print(\"Giỏi\")\n",
        "elif score >= 6.5:\n",
        "  print(\"Khá\")\n",
        "elif score >= 5:\n",
        "  print(\"Trung Bình\")\n",
        "else:\n",
        "  print(\"Yếu\")"
      ],
      "metadata": {
        "colab": {
          "base_uri": "https://localhost:8080/"
        },
        "id": "coRiuBalRTfV",
        "outputId": "f685ff78-8b82-484a-9143-f64be80b0145"
      },
      "execution_count": 32,
      "outputs": [
        {
          "output_type": "stream",
          "name": "stdout",
          "text": [
            "4.5\n",
            "Yếu\n"
          ]
        }
      ]
    },
    {
      "cell_type": "markdown",
      "source": [
        "Bài 15"
      ],
      "metadata": {
        "id": "dkmRQ-7rRSiA"
      }
    },
    {
      "cell_type": "code",
      "source": [
        "from re import I\n",
        "a = float(input())\n",
        "nguyen = int (a)\n",
        "floor = int\n",
        "ceil = int\n",
        "round = int\n",
        "if a > 0:\n",
        "  floor = nguyen\n",
        "elif a < 0:\n",
        "  floor = nguyen - 1\n",
        "ceil = nguyen + 1\n",
        "if a - nguyen < 0.5:\n",
        "  round = nguyen\n",
        "else:\n",
        "  round = ceil\n",
        "print(f\"{floor} {ceil} {round}\")\n",
        "\n"
      ],
      "metadata": {
        "colab": {
          "base_uri": "https://localhost:8080/"
        },
        "id": "Y2uHcZIwSVIq",
        "outputId": "887c2594-6f5e-43e3-ee3c-60427568dd7a"
      },
      "execution_count": 35,
      "outputs": [
        {
          "output_type": "stream",
          "name": "stdout",
          "text": [
            "6.8\n",
            "6 7 7\n"
          ]
        }
      ]
    },
    {
      "cell_type": "markdown",
      "source": [
        "Bài 16"
      ],
      "metadata": {
        "id": "UN0dyvrDST0s"
      }
    },
    {
      "cell_type": "code",
      "source": [
        "def istriangle(a, b, c):\n",
        "  if a>0 and b>0 and c > 0:\n",
        "    if (a < (b+c)) or (b < (a+c)) or (c < (a+b)):\n",
        "      return True\n",
        "    else:\n",
        "      return False\n",
        "a, b, c = map(int, input().split())\n",
        "if istriangle(a, b, c):\n",
        "  if a == b == c:\n",
        "    print(\"Tam giác đều\")\n",
        "  elif a == b or b == c or a == c:\n",
        "    print(\"Tam giác cân\")\n",
        "else:\n",
        "  print(\"Không phải tam giác\")\n",
        "#"
      ],
      "metadata": {
        "colab": {
          "base_uri": "https://localhost:8080/"
        },
        "id": "rDDj3KIqE05n",
        "outputId": "f751ceac-f359-487e-be59-d83087e22f9b"
      },
      "execution_count": 8,
      "outputs": [
        {
          "output_type": "stream",
          "name": "stdout",
          "text": [
            " 2 3 2\n",
            "Tam giác cân\n"
          ]
        }
      ]
    }
  ]
}